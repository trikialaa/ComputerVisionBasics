{
  "nbformat": 4,
  "nbformat_minor": 0,
  "metadata": {
    "colab": {
      "name": "Object_contouring_basics.ipynb",
      "provenance": [],
      "collapsed_sections": [],
      "toc_visible": true,
      "include_colab_link": true
    },
    "kernelspec": {
      "name": "python3",
      "display_name": "Python 3"
    }
  },
  "cells": [
    {
      "cell_type": "markdown",
      "metadata": {
        "id": "view-in-github",
        "colab_type": "text"
      },
      "source": [
        "<a href=\"https://colab.research.google.com/github/trikialaa/ComputerVisionBasics/blob/master/Object_contouring_basics.ipynb\" target=\"_parent\"><img src=\"https://colab.research.google.com/assets/colab-badge.svg\" alt=\"Open In Colab\"/></a>"
      ]
    },
    {
      "cell_type": "markdown",
      "metadata": {
        "id": "ZV3VwoeNHyiw",
        "colab_type": "text"
      },
      "source": [
        "# **Importing libraries**"
      ]
    },
    {
      "cell_type": "code",
      "metadata": {
        "id": "mhJbJnTLHf0e",
        "colab_type": "code",
        "colab": {}
      },
      "source": [
        "import cv2\n",
        "import imutils\n",
        "from google.colab.patches import cv2_imshow"
      ],
      "execution_count": 0,
      "outputs": []
    },
    {
      "cell_type": "markdown",
      "metadata": {
        "id": "lnGN5g0mH1oF",
        "colab_type": "text"
      },
      "source": [
        "# **Loading image**"
      ]
    },
    {
      "cell_type": "code",
      "metadata": {
        "id": "50pMh93uH30n",
        "colab_type": "code",
        "colab": {
          "base_uri": "https://localhost:8080/",
          "height": 316
        },
        "outputId": "6fca0820-1200-4115-854c-46845c03b331"
      },
      "source": [
        "img = cv2.imread('colors.png')\n",
        "cv2_imshow(img)"
      ],
      "execution_count": 4,
      "outputs": [
        {
          "output_type": "display_data",
          "data": {
            "image/png": "[encoded data removed]",
            "text/plain": [
              "<PIL.Image.Image image mode=RGB size=300x300 at 0x7F3D8F4E8208>"
            ]
          },
          "metadata": {
            "tags": []
          }
        }
      ]
    },
    {
      "cell_type": "markdown",
      "metadata": {
        "id": "ocELWyCeIkSo",
        "colab_type": "text"
      },
      "source": [
        "# **Converting image to gray scale**"
      ]
    },
    {
      "cell_type": "code",
      "metadata": {
        "id": "GVCPiPz1InqD",
        "colab_type": "code",
        "colab": {
          "base_uri": "https://localhost:8080/",
          "height": 316
        },
        "outputId": "84fcea23-fafc-4221-dfe3-1ec5b6210786"
      },
      "source": [
        "gray = cv2.cvtColor(img,cv2.COLOR_BGR2GRAY)\n",
        "cv2_imshow(gray)"
      ],
      "execution_count": 5,
      "outputs": [
        {
          "output_type": "display_data",
          "data": {
            "image/png": "[encoded data removed]",
            "text/plain": [
              "<PIL.Image.Image image mode=L size=300x300 at 0x7F3D8F466208>"
            ]
          },
          "metadata": {
            "tags": []
          }
        }
      ]
    },
    {
      "cell_type": "markdown",
      "metadata": {
        "id": "Jb05_8N4I3cZ",
        "colab_type": "text"
      },
      "source": [
        "# **Edge detection**"
      ]
    },
    {
      "cell_type": "code",
      "metadata": {
        "id": "YibP83dMI5_a",
        "colab_type": "code",
        "colab": {
          "base_uri": "https://localhost:8080/",
          "height": 316
        },
        "outputId": "3c8f7752-a5f6-4690-d806-c889f99a9498"
      },
      "source": [
        "edged = cv2.Canny(gray,30,60)\n",
        "cv2_imshow(edged)"
      ],
      "execution_count": 17,
      "outputs": [
        {
          "output_type": "display_data",
          "data": {
            "image/png": "[encoded data removed]",
            "text/plain": [
              "<PIL.Image.Image image mode=L size=300x300 at 0x7F3D8F47BF98>"
            ]
          },
          "metadata": {
            "tags": []
          }
        }
      ]
    },
    {
      "cell_type": "markdown",
      "metadata": {
        "id": "ju6XjZzMKaec",
        "colab_type": "text"
      },
      "source": [
        "# **Thresholding**"
      ]
    },
    {
      "cell_type": "code",
      "metadata": {
        "id": "GI8N82h9LBy3",
        "colab_type": "code",
        "colab": {
          "base_uri": "https://localhost:8080/",
          "height": 316
        },
        "outputId": "6adf3e00-8e63-4bcf-f5c3-7956ad0c59ef"
      },
      "source": [
        "threshold = cv2.threshold(gray,217,255,cv2.THRESH_BINARY_INV)[1]\n",
        "cv2_imshow(threshold)"
      ],
      "execution_count": 26,
      "outputs": [
        {
          "output_type": "display_data",
          "data": {
            "image/png": "[encoded data removed]",
            "text/plain": [
              "<PIL.Image.Image image mode=L size=300x300 at 0x7F3D8F46B7B8>"
            ]
          },
          "metadata": {
            "tags": []
          }
        }
      ]
    },
    {
      "cell_type": "markdown",
      "metadata": {
        "id": "rZs393swRV-M",
        "colab_type": "text"
      },
      "source": [
        "# **Image contouring**"
      ]
    },
    {
      "cell_type": "code",
      "metadata": {
        "id": "XmM3aQg8Rav4",
        "colab_type": "code",
        "colab": {
          "base_uri": "https://localhost:8080/",
          "height": 316
        },
        "outputId": "ec4d481c-7ef7-4f90-e84a-407f8e1fde1e"
      },
      "source": [
        "cont = cv2.findContours(threshold.copy(), cv2.RETR_EXTERNAL, cv2.CHAIN_APPROX_SIMPLE)\n",
        "cont = imutils.grab_contours(cont)\n",
        "img_cont = img.copy()\n",
        "\n",
        "i = 0\n",
        "\n",
        "for ct in cont:\n",
        "  cv2.drawContours(img_cont, [ct], -1, (0,0,0), 3)\n",
        "  i+=1\n",
        "\n",
        "cv2.putText(img_cont, \"{} objects found\".format(i), (10,20), cv2.FONT_HERSHEY_SIMPLEX, 0.35, (0,0,0), 1)\n",
        "cv2_imshow(img_cont)"
      ],
      "execution_count": 42,
      "outputs": [
        {
          "output_type": "display_data",
          "data": {
            "image/png": "[encoded data removed]",
            "text/plain": [
              "<PIL.Image.Image image mode=RGB size=300x300 at 0x7F3D8F3D5E80>"
            ]
          },
          "metadata": {
            "tags": []
          }
        }
      ]
    },
    {
      "cell_type": "markdown",
      "metadata": {
        "id": "RZ_8uVhwVmgf",
        "colab_type": "text"
      },
      "source": [
        "# **Erosion**"
      ]
    },
    {
      "cell_type": "code",
      "metadata": {
        "id": "6vctLHKfVsru",
        "colab_type": "code",
        "colab": {
          "base_uri": "https://localhost:8080/",
          "height": 650
        },
        "outputId": "f074ce01-d1fd-407b-c13d-c2dacdf9db65"
      },
      "source": [
        "mask = threshold.copy()\n",
        "img_ero = cv2.erode(mask, None, iterations=5)\n",
        "print(\"Original\")\n",
        "cv2_imshow(threshold)\n",
        "print(\"Eroded\")\n",
        "cv2_imshow(img_ero)"
      ],
      "execution_count": 49,
      "outputs": [
        {
          "output_type": "stream",
          "text": [
            "Original\n"
          ],
          "name": "stdout"
        },
        {
          "output_type": "display_data",
          "data": {
            "image/png": "[encoded data removed]",
            "text/plain": [
              "<PIL.Image.Image image mode=L size=300x300 at 0x7F3D8F3FE7B8>"
            ]
          },
          "metadata": {
            "tags": []
          }
        },
        {
          "output_type": "stream",
          "text": [
            "Eroded\n"
          ],
          "name": "stdout"
        },
        {
          "output_type": "display_data",
          "data": {
            "image/png": "[encoded data removed]",
            "text/plain": [
              "<PIL.Image.Image image mode=L size=300x300 at 0x7F3D8F3FEEB8>"
            ]
          },
          "metadata": {
            "tags": []
          }
        }
      ]
    },
    {
      "cell_type": "markdown",
      "metadata": {
        "id": "vocL8uHtW5PP",
        "colab_type": "text"
      },
      "source": [
        "# **Dilatation**"
      ]
    },
    {
      "cell_type": "code",
      "metadata": {
        "colab_type": "code",
        "outputId": "8928a093-1deb-43cb-af00-24fe4d083835",
        "id": "4FLvtpbTW996",
        "colab": {
          "base_uri": "https://localhost:8080/",
          "height": 650
        }
      },
      "source": [
        "mask = threshold.copy()\n",
        "img_dil = cv2.dilate(mask, None, iterations=5)\n",
        "print(\"Original\")\n",
        "cv2_imshow(threshold)\n",
        "print(\"Dilated\")\n",
        "cv2_imshow(img_dil)"
      ],
      "execution_count": 51,
      "outputs": [
        {
          "output_type": "stream",
          "text": [
            "Original\n"
          ],
          "name": "stdout"
        },
        {
          "output_type": "display_data",
          "data": {
            "image/png": "[encoded data removed]",
            "text/plain": [
              "<PIL.Image.Image image mode=L size=300x300 at 0x7F3D8F3FEEF0>"
            ]
          },
          "metadata": {
            "tags": []
          }
        },
        {
          "output_type": "stream",
          "text": [
            "Dilated\n"
          ],
          "name": "stdout"
        },
        {
          "output_type": "display_data",
          "data": {
            "image/png": "[encoded data removed]",
            "text/plain": [
              "<PIL.Image.Image image mode=L size=300x300 at 0x7F3D8F3FEEF0>"
            ]
          },
          "metadata": {
            "tags": []
          }
        }
      ]
    },
    {
      "cell_type": "markdown",
      "metadata": {
        "id": "z7GanSRyYwX6",
        "colab_type": "text"
      },
      "source": [
        "# **Masking**"
      ]
    },
    {
      "cell_type": "code",
      "metadata": {
        "id": "YiQKQQ6fYzku",
        "colab_type": "code",
        "colab": {
          "base_uri": "https://localhost:8080/",
          "height": 316
        },
        "outputId": "935e5568-6d82-4fa8-b307-0c402c1e4ea5"
      },
      "source": [
        "mask = threshold.copy()\n",
        "img_masked = cv2.bitwise_and(img, img, mask=mask)\n",
        "cv2_imshow(img_masked)"
      ],
      "execution_count": 57,
      "outputs": [
        {
          "output_type": "display_data",
          "data": {
            "image/png": "[encoded data removed]",
            "text/plain": [
              "<PIL.Image.Image image mode=RGB size=300x300 at 0x7F3D8F4369B0>"
            ]
          },
          "metadata": {
            "tags": []
          }
        }
      ]
    }
  ]
}